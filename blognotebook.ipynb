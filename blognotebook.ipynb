{
 "metadata": {
  "language_info": {
   "codemirror_mode": {
    "name": "ipython",
    "version": 3
   },
   "file_extension": ".py",
   "mimetype": "text/x-python",
   "name": "python",
   "nbconvert_exporter": "python",
   "pygments_lexer": "ipython3",
   "version": "3.8.5-final"
  },
  "orig_nbformat": 2,
  "kernelspec": {
   "name": "python3",
   "display_name": "Python 3.8.5 64-bit ('ignite': conda)",
   "metadata": {
    "interpreter": {
     "hash": "11e77a52f686d156af63d0c9969fb9dec66d837978dc1678096c7c75d2ad8d80"
    }
   }
  }
 },
 "nbformat": 4,
 "nbformat_minor": 2,
 "cells": [
  {
   "cell_type": "code",
   "execution_count": null,
   "metadata": {},
   "outputs": [],
   "source": [
    "!pip install azure-ai-formrecognizer --pre"
   ]
  },
  {
   "cell_type": "code",
   "execution_count": 64,
   "metadata": {},
   "outputs": [],
   "source": [
    "import os\n",
    "from azure.core.exceptions import ResourceNotFoundError\n",
    "from azure.ai.formrecognizer import FormRecognizerClient\n",
    "from azure.ai.formrecognizer import FormTrainingClient\n",
    "from azure.core.credentials import AzureKeyCredential"
   ]
  },
  {
   "cell_type": "code",
   "execution_count": 65,
   "metadata": {},
   "outputs": [],
   "source": [
    "import os, uuid\n",
    "from azure.storage.blob import BlobServiceClient, BlobClient, ContainerClient, __version__\n"
   ]
  },
  {
   "cell_type": "code",
   "execution_count": 66,
   "metadata": {},
   "outputs": [],
   "source": [
    "endpoint = \"<your endpoint>\"\n",
    "key = \"<your key>\""
   ]
  },
  {
   "cell_type": "code",
   "execution_count": 67,
   "metadata": {},
   "outputs": [],
   "source": [
    "form_recognizer_client = FormRecognizerClient(endpoint, AzureKeyCredential(key))\n",
    "form_training_client = FormTrainingClient(endpoint, AzureKeyCredential(key))"
   ]
  },
  {
   "cell_type": "code",
   "execution_count": 99,
   "metadata": {},
   "outputs": [],
   "source": [
    "def print_result(invoices, blob_name):\n",
    "    for idx, invoice in enumerate(invoices):\n",
    "        print(\"--------Recognizing invoice {}--------\".format(blob_name))\n",
    "        vendor_name = invoice.fields.get(\"VendorName\")\n",
    "        if vendor_name:\n",
    "            print(\"Vendor Name: {} has confidence: {}\".format(vendor_name.value, vendor_name.confidence))\n",
    "        vendor_address = invoice.fields.get(\"VendorAddress\")\n",
    "        if vendor_address:\n",
    "            print(\"Vendor Address: {} has confidence: {}\".format(vendor_address.value, vendor_address.confidence))\n",
    "        customer_name = invoice.fields.get(\"CustomerName\")\n",
    "        if customer_name:\n",
    "            print(\"Customer Name: {} has confidence: {}\".format(customer_name.value, customer_name.confidence))\n",
    "        customer_address = invoice.fields.get(\"CustomerAddress\")\n",
    "        if customer_address:\n",
    "            print(\"Customer Address: {} has confidence: {}\".format(customer_address.value, customer_address.confidence))\n",
    "        customer_address_recipient = invoice.fields.get(\"CustomerAddressRecipient\")\n",
    "        if customer_address_recipient:\n",
    "            print(\"Customer Address Recipient: {} has confidence: {}\".format(customer_address_recipient.value, customer_address_recipient.confidence))\n",
    "        invoice_id = invoice.fields.get(\"InvoiceId\")\n",
    "        if invoice_id:\n",
    "            print(\"Invoice Id: {} has confidence: {}\".format(invoice_id.value, invoice_id.confidence))\n",
    "        invoice_date = invoice.fields.get(\"InvoiceDate\")\n",
    "        if invoice_date:\n",
    "            print(\"Invoice Date: {} has confidence: {}\".format(invoice_date.value, invoice_date.confidence))\n",
    "        invoice_total = invoice.fields.get(\"InvoiceTotal\")\n",
    "        if invoice_total:\n",
    "            print(\"Invoice Total: {} has confidence: {}\".format(invoice_total.value, invoice_total.confidence))\n",
    "        due_date = invoice.fields.get(\"DueDate\")\n",
    "        if due_date:\n",
    "            print(\"Due Date: {} has confidence: {}\".format(due_date.value, due_date.confidence))\n"
   ]
  },
  {
   "cell_type": "code",
   "execution_count": 94,
   "metadata": {},
   "outputs": [
    {
     "output_type": "stream",
     "name": "stdout",
     "text": [
      "https://storageaccountaiaprab2d.blob.core.windows.net/train\n"
     ]
    }
   ],
   "source": [
    "# Create the BlobServiceClient object which will be used to create a container client\n",
    "connect_str = \"<your connection string>\"\n",
    "\n",
    "blob_service_client = BlobServiceClient.from_connection_string(connect_str)\n",
    "\n",
    "container_client = blob_service_client.get_container_client(\"raw\")\n",
    "invoiceUrlBase = container_client.primary_endpoint\n",
    "print(invoiceUrlBase)"
   ]
  },
  {
   "cell_type": "code",
   "execution_count": 100,
   "metadata": {},
   "outputs": [
    {
     "output_type": "stream",
     "name": "stdout",
     "text": [
      "\n",
      "Processing blobs...\n",
      "https://storageaccountaiaprab2d.blob.core.windows.net/train/Invoice103563.pdf\n",
      "--------Recognizing invoice Invoice103563.pdf--------\n",
      "Vendor Name: T.T TAILWIND TRADERS has confidence: 0.992\n",
      "Vendor Address: 488 Meadow Glen Way Lincoln Acres has confidence: 0.377\n",
      "Customer Name: Brian Groth has confidence: 0.25\n",
      "Customer Address: 1145 Paraiso Ct. has confidence: 0.932\n",
      "Customer Address Recipient: Brian Groth has confidence: 0.25\n",
      "Invoice Id: 103563 has confidence: 0.994\n",
      "Invoice Total: 513.6 has confidence: 0.996\n",
      "https://storageaccountaiaprab2d.blob.core.windows.net/train/Invoice106511.pdf\n",
      "--------Recognizing invoice Invoice106511.pdf--------\n",
      "Vendor Name: T.T TAILWIND TRADERS has confidence: 0.992\n",
      "Customer Name: Wfownosec has confidence: 0.692\n",
      "Customer Address: 6206 Arthur Rd has confidence: 0.92\n",
      "Customer Address Recipient: Wfownosec has confidence: 0.692\n",
      "Invoice Id: 106511 has confidence: 0.996\n",
      "Invoice Total: 873.12 has confidence: 0.995\n",
      "https://storageaccountaiaprab2d.blob.core.windows.net/train/Invoice112747.pdf\n",
      "--------Recognizing invoice Invoice112747.pdf--------\n",
      "Vendor Name: T.T TAILWIND TRADERS has confidence: 0.992\n",
      "Vendor Address: Auf der Krone 9349 has confidence: 0.331\n",
      "Customer Name: Hailey Wood has confidence: 0.496\n",
      "Customer Address: Carlsplatz 123 has confidence: 0.896\n",
      "Customer Address Recipient: Hailey Wood has confidence: 0.496\n",
      "Invoice Id: 112747 has confidence: 0.997\n",
      "Invoice Total: 757.56 has confidence: 0.994\n",
      "https://storageaccountaiaprab2d.blob.core.windows.net/train/Invoice127467.pdf\n",
      "--------Recognizing invoice Invoice127467.pdf--------\n",
      "Vendor Name: T.T TAILWIND TRADERS has confidence: 0.993\n",
      "Vendor Address: 9389 RaceCourt Puyallup Washington has confidence: 0.579\n",
      "Customer Name: Peterson has confidence: 0.448\n",
      "Customer Address: British Columbia has confidence: 0.83\n",
      "Customer Address Recipient: Caitlin has confidence: 0.165\n",
      "Invoice Id: 127467 has confidence: 0.997\n",
      "Invoice Total: 1140.62 has confidence: 0.993\n",
      "https://storageaccountaiaprab2d.blob.core.windows.net/train/Invoice129235.pdf\n",
      "--------Recognizing invoice Invoice129235.pdf--------\n",
      "Vendor Name: T.T TAILWIND TRADERS has confidence: 0.994\n",
      "Vendor Address: 9089 Bonsai Court has confidence: 0.385\n",
      "Customer Name: Gavin Bennett has confidence: 0.371\n",
      "Customer Address: 6793 Bonifacio St. Woodland Hills has confidence: 0.926\n",
      "Customer Address Recipient: Gavin Bennett has confidence: 0.371\n",
      "Invoice Id: 129235 has confidence: 0.996\n",
      "Invoice Total: 459.03 has confidence: 0.995\n"
     ]
    }
   ],
   "source": [
    "print(\"\\nProcessing blobs...\")\n",
    "\n",
    "# List the blobs in the container\n",
    "blob_list = container_client.list_blobs()\n",
    "for blob in blob_list:\n",
    "    invoiceUrl = f'{invoiceUrlBase}/{blob.name}'\n",
    "    print(invoiceUrl)\n",
    "    poller = form_recognizer_client.begin_recognize_invoices_from_url(invoiceUrl)\n",
    "    invoices = poller.result()\n",
    "    print_result(invoices, blob.name)"
   ]
  },
  {
   "cell_type": "code",
   "execution_count": null,
   "metadata": {},
   "outputs": [],
   "source": []
  }
 ]
}