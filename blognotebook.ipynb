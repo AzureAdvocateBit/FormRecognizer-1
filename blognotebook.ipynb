{
 "metadata": {
  "language_info": {
   "codemirror_mode": {
    "name": "ipython",
    "version": 3
   },
   "file_extension": ".py",
   "mimetype": "text/x-python",
   "name": "python",
   "nbconvert_exporter": "python",
   "pygments_lexer": "ipython3",
   "version": "3.8.5-final"
  },
  "orig_nbformat": 2,
  "kernelspec": {
   "name": "python3",
   "display_name": "Python 3.8.5 64-bit ('ignite': conda)",
   "metadata": {
    "interpreter": {
     "hash": "11e77a52f686d156af63d0c9969fb9dec66d837978dc1678096c7c75d2ad8d80"
    }
   }
  }
 },
 "nbformat": 4,
 "nbformat_minor": 2,
 "cells": [
  {
   "cell_type": "code",
   "execution_count": null,
   "metadata": {},
   "outputs": [],
   "source": [
    "!pip install azure-ai-formrecognizer --pre"
   ]
  },
  {
   "cell_type": "code",
   "execution_count": 64,
   "metadata": {},
   "outputs": [],
   "source": [
    "import os\n",
    "from azure.core.exceptions import ResourceNotFoundError\n",
    "from azure.ai.formrecognizer import FormRecognizerClient\n",
    "from azure.ai.formrecognizer import FormTrainingClient\n",
    "from azure.core.credentials import AzureKeyCredential"
   ]
  },
  {
   "cell_type": "code",
   "execution_count": 65,
   "metadata": {},
   "outputs": [],
   "source": [
    "import os, uuid\n",
    "from azure.storage.blob import BlobServiceClient, BlobClient, ContainerClient, __version__\n"
   ]
  },
  {
   "cell_type": "code",
   "execution_count": 66,
   "metadata": {},
   "outputs": [],
   "source": [
    "endpoint = \"https://formrecogblogdemo.cognitiveservices.azure.com/\"\n",
    "key = \"5adb3c0fdc90418a91dbd74f8d99446c\""
   ]
  },
  {
   "cell_type": "code",
   "execution_count": 67,
   "metadata": {},
   "outputs": [],
   "source": [
    "form_recognizer_client = FormRecognizerClient(endpoint, AzureKeyCredential(key))\n",
    "form_training_client = FormTrainingClient(endpoint, AzureKeyCredential(key))"
   ]
  },
  {
   "cell_type": "code",
   "execution_count": 99,
   "metadata": {},
   "outputs": [],
   "source": [
    "def print_result(invoices, blob_name):\n",
    "    for idx, invoice in enumerate(invoices):\n",
    "        print(\"--------Recognizing invoice {}--------\".format(blob_name))\n",
    "        vendor_name = invoice.fields.get(\"VendorName\")\n",
    "        if vendor_name:\n",
    "            print(\"Vendor Name: {} has confidence: {}\".format(vendor_name.value, vendor_name.confidence))\n",
    "        vendor_address = invoice.fields.get(\"VendorAddress\")\n",
    "        if vendor_address:\n",
    "            print(\"Vendor Address: {} has confidence: {}\".format(vendor_address.value, vendor_address.confidence))\n",
    "        customer_name = invoice.fields.get(\"CustomerName\")\n",
    "        if customer_name:\n",
    "            print(\"Customer Name: {} has confidence: {}\".format(customer_name.value, customer_name.confidence))\n",
    "        customer_address = invoice.fields.get(\"CustomerAddress\")\n",
    "        if customer_address:\n",
    "            print(\"Customer Address: {} has confidence: {}\".format(customer_address.value, customer_address.confidence))\n",
    "        customer_address_recipient = invoice.fields.get(\"CustomerAddressRecipient\")\n",
    "        if customer_address_recipient:\n",
    "            print(\"Customer Address Recipient: {} has confidence: {}\".format(customer_address_recipient.value, customer_address_recipient.confidence))\n",
    "        invoice_id = invoice.fields.get(\"InvoiceId\")\n",
    "        if invoice_id:\n",
    "            print(\"Invoice Id: {} has confidence: {}\".format(invoice_id.value, invoice_id.confidence))\n",
    "        invoice_date = invoice.fields.get(\"InvoiceDate\")\n",
    "        if invoice_date:\n",
    "            print(\"Invoice Date: {} has confidence: {}\".format(invoice_date.value, invoice_date.confidence))\n",
    "        invoice_total = invoice.fields.get(\"InvoiceTotal\")\n",
    "        if invoice_total:\n",
    "            print(\"Invoice Total: {} has confidence: {}\".format(invoice_total.value, invoice_total.confidence))\n",
    "        due_date = invoice.fields.get(\"DueDate\")\n",
    "        if due_date:\n",
    "            print(\"Due Date: {} has confidence: {}\".format(due_date.value, due_date.confidence))\n"
   ]
  },
  {
   "cell_type": "code",
   "execution_count": 94,
   "metadata": {},
   "outputs": [
    {
     "output_type": "stream",
     "name": "stdout",
     "text": [
      "https://storageaccountaiaprab2d.blob.core.windows.net/train\n"
     ]
    }
   ],
   "source": [
    "# Create the BlobServiceClient object which will be used to create a container client\n",
    "connect_str = \"DefaultEndpointsProtocol=https;AccountName=storageaccountaiaprab2d;AccountKey=NOYciUciFe/tJzEuSoVDPJt1MOO/gpCnZtZbyzxvyfGVK8+I5XDU8IvFZi/RhnusAi73MqC97/R93d6/e+dkJg==;EndpointSuffix=core.windows.net\"\n",
    "\n",
    "blob_service_client = BlobServiceClient.from_connection_string(connect_str)\n",
    "\n",
    "container_client = blob_service_client.get_container_client(\"train\")\n",
    "invoiceUrlBase = container_client.primary_endpoint\n",
    "print(invoiceUrlBase)"
   ]
  },
  {
   "cell_type": "code",
   "execution_count": 98,
   "metadata": {},
   "outputs": [
    {
     "output_type": "stream",
     "name": "stdout",
     "text": [
      "\n",
      "Processing blobs...\n",
      "https://storageaccountaiaprab2d.blob.core.windows.net/train/Invoice103563.pdf\n"
     ]
    },
    {
     "output_type": "error",
     "ename": "TypeError",
     "evalue": "'str' object cannot be interpreted as an integer",
     "traceback": [
      "\u001b[1;31m---------------------------------------------------------------------------\u001b[0m",
      "\u001b[1;31mTypeError\u001b[0m                                 Traceback (most recent call last)",
      "\u001b[1;32m<ipython-input-98-89c6b4906253>\u001b[0m in \u001b[0;36m<module>\u001b[1;34m\u001b[0m\n\u001b[0;32m      8\u001b[0m     \u001b[0mpoller\u001b[0m \u001b[1;33m=\u001b[0m \u001b[0mform_recognizer_client\u001b[0m\u001b[1;33m.\u001b[0m\u001b[0mbegin_recognize_invoices_from_url\u001b[0m\u001b[1;33m(\u001b[0m\u001b[0minvoiceUrl\u001b[0m\u001b[1;33m)\u001b[0m\u001b[1;33m\u001b[0m\u001b[1;33m\u001b[0m\u001b[0m\n\u001b[0;32m      9\u001b[0m     \u001b[0minvoices\u001b[0m \u001b[1;33m=\u001b[0m \u001b[0mpoller\u001b[0m\u001b[1;33m.\u001b[0m\u001b[0mresult\u001b[0m\u001b[1;33m(\u001b[0m\u001b[1;33m)\u001b[0m\u001b[1;33m\u001b[0m\u001b[1;33m\u001b[0m\u001b[0m\n\u001b[1;32m---> 10\u001b[1;33m     \u001b[0mprint_result\u001b[0m\u001b[1;33m(\u001b[0m\u001b[0minvoices\u001b[0m\u001b[1;33m,\u001b[0m \u001b[0mblob\u001b[0m\u001b[1;33m.\u001b[0m\u001b[0mname\u001b[0m\u001b[1;33m)\u001b[0m\u001b[1;33m\u001b[0m\u001b[1;33m\u001b[0m\u001b[0m\n\u001b[0m",
      "\u001b[1;32m<ipython-input-97-5bd1d2b0a5f6>\u001b[0m in \u001b[0;36mprint_result\u001b[1;34m(invoices, blob_name)\u001b[0m\n\u001b[0;32m      1\u001b[0m \u001b[1;32mdef\u001b[0m \u001b[0mprint_result\u001b[0m\u001b[1;33m(\u001b[0m\u001b[0minvoices\u001b[0m\u001b[1;33m,\u001b[0m \u001b[0mblob_name\u001b[0m\u001b[1;33m)\u001b[0m\u001b[1;33m:\u001b[0m\u001b[1;33m\u001b[0m\u001b[1;33m\u001b[0m\u001b[0m\n\u001b[1;32m----> 2\u001b[1;33m     \u001b[1;32mfor\u001b[0m \u001b[0midx\u001b[0m\u001b[1;33m,\u001b[0m \u001b[0minvoice\u001b[0m \u001b[1;32min\u001b[0m \u001b[0menumerate\u001b[0m\u001b[1;33m(\u001b[0m\u001b[0minvoices\u001b[0m\u001b[1;33m,\u001b[0m \u001b[0mblob_name\u001b[0m\u001b[1;33m)\u001b[0m\u001b[1;33m:\u001b[0m\u001b[1;33m\u001b[0m\u001b[1;33m\u001b[0m\u001b[0m\n\u001b[0m\u001b[0;32m      3\u001b[0m         \u001b[0mprint\u001b[0m\u001b[1;33m(\u001b[0m\u001b[1;34m\"--------Recognizing invoice {}--------\"\u001b[0m\u001b[1;33m.\u001b[0m\u001b[0mformat\u001b[0m\u001b[1;33m(\u001b[0m\u001b[0mblob_name\u001b[0m\u001b[1;33m)\u001b[0m\u001b[1;33m)\u001b[0m\u001b[1;33m\u001b[0m\u001b[1;33m\u001b[0m\u001b[0m\n\u001b[0;32m      4\u001b[0m         \u001b[0mvendor_name\u001b[0m \u001b[1;33m=\u001b[0m \u001b[0minvoice\u001b[0m\u001b[1;33m.\u001b[0m\u001b[0mfields\u001b[0m\u001b[1;33m.\u001b[0m\u001b[0mget\u001b[0m\u001b[1;33m(\u001b[0m\u001b[1;34m\"VendorName\"\u001b[0m\u001b[1;33m)\u001b[0m\u001b[1;33m\u001b[0m\u001b[1;33m\u001b[0m\u001b[0m\n\u001b[0;32m      5\u001b[0m         \u001b[1;32mif\u001b[0m \u001b[0mvendor_name\u001b[0m\u001b[1;33m:\u001b[0m\u001b[1;33m\u001b[0m\u001b[1;33m\u001b[0m\u001b[0m\n",
      "\u001b[1;31mTypeError\u001b[0m: 'str' object cannot be interpreted as an integer"
     ]
    }
   ],
   "source": [
    "print(\"\\nProcessing blobs...\")\n",
    "\n",
    "# List the blobs in the container\n",
    "blob_list = container_client.list_blobs()\n",
    "for blob in blob_list:\n",
    "    invoiceUrl = f'{invoiceUrlBase}/{blob.name}'\n",
    "    print(invoiceUrl)\n",
    "    poller = form_recognizer_client.begin_recognize_invoices_from_url(invoiceUrl)\n",
    "    invoices = poller.result()\n",
    "    print_result(invoices, blob.name)"
   ]
  },
  {
   "cell_type": "code",
   "execution_count": null,
   "metadata": {},
   "outputs": [],
   "source": []
  }
 ]
}